{
 "cells": [
  {
   "cell_type": "markdown",
   "metadata": {},
   "source": [
    "# Predicting Stock Price (Next Day)\n",
    "#### 1 .Importing librarys"
   ]
  },
  {
   "cell_type": "code",
   "execution_count": 6,
   "metadata": {},
   "outputs": [],
   "source": [
    "import numpy as np \n",
    "import matplotlib.pyplot as plt\n",
    "import pandas as pd\n",
    "import pandas_datareader as web\n",
    "import datetime as dt\n",
    "\n",
    "from sklearn.preprocessing import MinMaxScaler\n",
    "from tensorflow.keras.models import Sequential\n",
    "from tensorflow.keras.layers import Dense,Dropout, LSTM"
   ]
  },
  {
   "cell_type": "markdown",
   "metadata": {},
   "source": [
    "#### 2.Load data"
   ]
  },
  {
   "cell_type": "code",
   "execution_count": 16,
   "metadata": {},
   "outputs": [
    {
     "data": {
      "text/html": [
       "<div>\n",
       "<style scoped>\n",
       "    .dataframe tbody tr th:only-of-type {\n",
       "        vertical-align: middle;\n",
       "    }\n",
       "\n",
       "    .dataframe tbody tr th {\n",
       "        vertical-align: top;\n",
       "    }\n",
       "\n",
       "    .dataframe thead th {\n",
       "        text-align: right;\n",
       "    }\n",
       "</style>\n",
       "<table border=\"1\" class=\"dataframe\">\n",
       "  <thead>\n",
       "    <tr style=\"text-align: right;\">\n",
       "      <th></th>\n",
       "      <th>High</th>\n",
       "      <th>Low</th>\n",
       "      <th>Open</th>\n",
       "      <th>Close</th>\n",
       "      <th>Volume</th>\n",
       "      <th>Adj Close</th>\n",
       "    </tr>\n",
       "    <tr>\n",
       "      <th>Date</th>\n",
       "      <th></th>\n",
       "      <th></th>\n",
       "      <th></th>\n",
       "      <th></th>\n",
       "      <th></th>\n",
       "      <th></th>\n",
       "    </tr>\n",
       "  </thead>\n",
       "  <tbody>\n",
       "    <tr>\n",
       "      <th>2021-03-26</th>\n",
       "      <td>643.820007</td>\n",
       "      <td>599.890015</td>\n",
       "      <td>641.869995</td>\n",
       "      <td>618.710022</td>\n",
       "      <td>33778400.0</td>\n",
       "      <td>618.710022</td>\n",
       "    </tr>\n",
       "    <tr>\n",
       "      <th>2021-03-29</th>\n",
       "      <td>616.479980</td>\n",
       "      <td>596.020020</td>\n",
       "      <td>615.640015</td>\n",
       "      <td>611.289978</td>\n",
       "      <td>28637000.0</td>\n",
       "      <td>611.289978</td>\n",
       "    </tr>\n",
       "    <tr>\n",
       "      <th>2021-03-30</th>\n",
       "      <td>637.659973</td>\n",
       "      <td>591.010010</td>\n",
       "      <td>601.750000</td>\n",
       "      <td>635.619995</td>\n",
       "      <td>39432400.0</td>\n",
       "      <td>635.619995</td>\n",
       "    </tr>\n",
       "    <tr>\n",
       "      <th>2021-03-31</th>\n",
       "      <td>672.000000</td>\n",
       "      <td>641.109985</td>\n",
       "      <td>646.619995</td>\n",
       "      <td>667.929993</td>\n",
       "      <td>33337300.0</td>\n",
       "      <td>667.929993</td>\n",
       "    </tr>\n",
       "    <tr>\n",
       "      <th>2021-04-01</th>\n",
       "      <td>692.419983</td>\n",
       "      <td>659.419983</td>\n",
       "      <td>688.369995</td>\n",
       "      <td>661.750000</td>\n",
       "      <td>35298400.0</td>\n",
       "      <td>661.750000</td>\n",
       "    </tr>\n",
       "  </tbody>\n",
       "</table>\n",
       "</div>"
      ],
      "text/plain": [
       "                  High         Low        Open       Close      Volume  \\\n",
       "Date                                                                     \n",
       "2021-03-26  643.820007  599.890015  641.869995  618.710022  33778400.0   \n",
       "2021-03-29  616.479980  596.020020  615.640015  611.289978  28637000.0   \n",
       "2021-03-30  637.659973  591.010010  601.750000  635.619995  39432400.0   \n",
       "2021-03-31  672.000000  641.109985  646.619995  667.929993  33337300.0   \n",
       "2021-04-01  692.419983  659.419983  688.369995  661.750000  35298400.0   \n",
       "\n",
       "             Adj Close  \n",
       "Date                    \n",
       "2021-03-26  618.710022  \n",
       "2021-03-29  611.289978  \n",
       "2021-03-30  635.619995  \n",
       "2021-03-31  667.929993  \n",
       "2021-04-01  661.750000  "
      ]
     },
     "execution_count": 16,
     "metadata": {},
     "output_type": "execute_result"
    }
   ],
   "source": [
    "# Tesla Tiker Symbol\n",
    "company = 'TSLA' \n",
    "\n",
    "#set start date & end date\n",
    "start = dt.datetime(2012,1,1)\n",
    "end = dt.datetime(2021,4,1)\n",
    "\n",
    "data = web.DataReader(company,'yahoo',start,end)\n",
    "data.tail()\n"
   ]
  },
  {
   "cell_type": "markdown",
   "metadata": {},
   "source": [
    "#### 3.Prepare data"
   ]
  },
  {
   "cell_type": "code",
   "execution_count": 10,
   "metadata": {},
   "outputs": [],
   "source": [
    "scaler = MinMaxScaler(feature_range=(0,1))\n",
    "scaled_data = scaler.fit_transform(data['Close'].values.reshape(-1,1))\n",
    "\n",
    "predict_day = 60\n",
    "x_train = []\n",
    "y_train = []\n",
    "\n",
    "for x in range(predict_day,len(scaled_data)):\n",
    "    x_train.append(scaled_data[x-predict_day:x,0])\n",
    "    y_train.append(scaled_data[x,0])\n",
    "    \n",
    "x_train,y_train = np.array(x_train), np.array(y_train)\n",
    "x_train = np.reshape(x_train, (x_train.shape[0], x_train.shape[1],1))\n"
   ]
  },
  {
   "cell_type": "markdown",
   "metadata": {},
   "source": [
    "#### 4.Bulid Model"
   ]
  },
  {
   "cell_type": "code",
   "execution_count": 11,
   "metadata": {},
   "outputs": [
    {
     "name": "stdout",
     "output_type": "stream",
     "text": [
      "Epoch 1/25\n",
      "71/71 [==============================] - 13s 74ms/step - loss: 0.0085\n",
      "Epoch 2/25\n",
      "71/71 [==============================] - 5s 76ms/step - loss: 9.8620e-04\n",
      "Epoch 3/25\n",
      "71/71 [==============================] - 5s 73ms/step - loss: 0.0014\n",
      "Epoch 4/25\n",
      "71/71 [==============================] - 5s 74ms/step - loss: 0.0011\n",
      "Epoch 5/25\n",
      "71/71 [==============================] - 5s 75ms/step - loss: 8.8009e-04\n",
      "Epoch 6/25\n",
      "71/71 [==============================] - 5s 74ms/step - loss: 9.2717e-04\n",
      "Epoch 7/25\n",
      "71/71 [==============================] - 5s 74ms/step - loss: 0.0014\n",
      "Epoch 8/25\n",
      "71/71 [==============================] - 6s 78ms/step - loss: 5.2220e-04\n",
      "Epoch 9/25\n",
      "71/71 [==============================] - 6s 78ms/step - loss: 8.6010e-04\n",
      "Epoch 10/25\n",
      "71/71 [==============================] - 6s 82ms/step - loss: 5.0460e-04\n",
      "Epoch 11/25\n",
      "71/71 [==============================] - 6s 82ms/step - loss: 5.7808e-04\n",
      "Epoch 12/25\n",
      "71/71 [==============================] - 6s 91ms/step - loss: 4.8115e-04\n",
      "Epoch 13/25\n",
      "71/71 [==============================] - 6s 89ms/step - loss: 6.6888e-04\n",
      "Epoch 14/25\n",
      "71/71 [==============================] - 6s 80ms/step - loss: 5.6242e-04\n",
      "Epoch 15/25\n",
      "71/71 [==============================] - 6s 80ms/step - loss: 8.1657e-04\n",
      "Epoch 16/25\n",
      "71/71 [==============================] - 6s 82ms/step - loss: 6.2159e-04\n",
      "Epoch 17/25\n",
      "71/71 [==============================] - 6s 82ms/step - loss: 7.3146e-04: 0s - loss: \n",
      "Epoch 18/25\n",
      "71/71 [==============================] - 6s 87ms/step - loss: 6.0836e-04\n",
      "Epoch 19/25\n",
      "71/71 [==============================] - 6s 85ms/step - loss: 8.0620e-04\n",
      "Epoch 20/25\n",
      "71/71 [==============================] - 6s 80ms/step - loss: 5.7805e-04\n",
      "Epoch 21/25\n",
      "71/71 [==============================] - 6s 82ms/step - loss: 7.6176e-04\n",
      "Epoch 22/25\n",
      "71/71 [==============================] - 6s 84ms/step - loss: 7.9425e-04\n",
      "Epoch 23/25\n",
      "71/71 [==============================] - 6s 87ms/step - loss: 6.9508e-04\n",
      "Epoch 24/25\n",
      "71/71 [==============================] - 6s 82ms/step - loss: 5.4069e-04\n",
      "Epoch 25/25\n",
      "71/71 [==============================] - 6s 86ms/step - loss: 5.8432e-04\n"
     ]
    },
    {
     "data": {
      "text/plain": [
       "<tensorflow.python.keras.callbacks.History at 0x13f1fa00>"
      ]
     },
     "execution_count": 11,
     "metadata": {},
     "output_type": "execute_result"
    }
   ],
   "source": [
    "model = Sequential()\n",
    "\n",
    "model.add(LSTM(units=50,return_sequences=True,input_shape=(x_train.shape[1],1)))\n",
    "model.add(Dropout(0.2))\n",
    "model.add(LSTM(units=50,return_sequences=True))\n",
    "model.add(Dropout(0.2))\n",
    "model.add(LSTM(units=50))\n",
    "model.add(Dropout(0.2))\n",
    "\n",
    "# Prediction of the next close price\n",
    "model.add(Dense(units=1))\n",
    "\n",
    "model.compile(optimizer='adam',loss='mean_squared_error')\n",
    "model.fit(x_train,y_train, epochs=25, batch_size=32)\n",
    "\n"
   ]
  },
  {
   "cell_type": "markdown",
   "metadata": {},
   "source": [
    "#### 5.Test the model accurancy"
   ]
  },
  {
   "cell_type": "code",
   "execution_count": 12,
   "metadata": {},
   "outputs": [],
   "source": [
    "test_start = dt.datetime(2021,4,1)\n",
    "test_end = dt.datetime.now()\n",
    "\n",
    "test_data = web.DataReader(company,'yahoo',test_start,test_end)\n",
    "actual_prices = test_data['Close'].values\n",
    "\n",
    "total_dataset = pd.concat((data['Close'],test_data['Close']),axis=0)\n",
    "\n",
    "model_inputs = total_dataset[len(total_dataset) - len(test_data) - predict_day:].values\n",
    "model_inputs = model_inputs.reshape(-1,1)\n",
    "model_inputs = scaler.transform(model_inputs)\n"
   ]
  },
  {
   "cell_type": "markdown",
   "metadata": {},
   "source": [
    "#### 6. Make Predictions on Test Data"
   ]
  },
  {
   "cell_type": "code",
   "execution_count": 13,
   "metadata": {},
   "outputs": [],
   "source": [
    "x_test = []\n",
    "\n",
    "for x in range(predict_day, len(model_inputs)):\n",
    "       x_test.append(model_inputs[x-predict_day:x, 0])\n",
    "        \n",
    "x_test = np.array(x_test)\n",
    "x_test = np.reshape(x_test, (x_test.shape[0],x_test.shape[1],1))\n",
    "\n",
    "\n",
    "predicted_prices = model.predict(x_test)\n",
    "predicted_prices = scaler.inverse_transform(predicted_prices)\n",
    "\n",
    "\n"
   ]
  },
  {
   "cell_type": "markdown",
   "metadata": {},
   "source": [
    "#### 7.Plot the Test Predictions"
   ]
  },
  {
   "cell_type": "code",
   "execution_count": 14,
   "metadata": {},
   "outputs": [
    {
     "data": {
      "image/png": "[encoded data removed]",
      "text/plain": [
       "<Figure size 432x288 with 1 Axes>"
      ]
     },
     "metadata": {
      "needs_background": "light"
     },
     "output_type": "display_data"
    }
   ],
   "source": [
    "#plot the test predictions\n",
    "\n",
    "plt.plot(actual_prices, color='blue',label= f\"Actual {company} price\" )\n",
    "plt.plot(predicted_prices, color='green',label=f\"Predicted {company} price\")\n",
    "plt.title(f\"{company} Share Price in USD\")\n",
    "plt.xlabel('Time')\n",
    "plt.ylabel(f'{company} Share Price')\n",
    "plt.legend()\n",
    "plt.show()"
   ]
  },
  {
   "cell_type": "markdown",
   "metadata": {},
   "source": [
    "### Predict Next Day"
   ]
  },
  {
   "cell_type": "code",
   "execution_count": 15,
   "metadata": {
    "scrolled": true
   },
   "outputs": [
    {
     "name": "stdout",
     "output_type": "stream",
     "text": [
      "WARNING:tensorflow:Model was constructed with shape (None, 60, 1) for input KerasTensor(type_spec=TensorSpec(shape=(None, 60, 1), dtype=tf.float32, name='lstm_input'), name='lstm_input', description=\"created by layer 'lstm_input'\"), but it was called on an input with incompatible shape (None, 59, 1).\n",
      "Tomorrow Prediction : [[662.834]]\n"
     ]
    }
   ],
   "source": [
    "real_data = [model_inputs[len(model_inputs) + 1 - predict_day:len(model_inputs+1), 0]]\n",
    "real_data = np.array(real_data)\n",
    "real_data = np.reshape(real_data,(real_data.shape[0],real_data.shape[1], 1))\n",
    "\n",
    "#print(scaler.inverse_transform(real_data[]))\n",
    "\n",
    "prediction = model.predict(real_data)\n",
    "prediction = scaler.inverse_transform(prediction)\n",
    "\n",
    "print(f\"Tomorrow Prediction : {prediction}\")\n"
   ]
  },
  {
   "cell_type": "markdown",
   "metadata": {},
   "source": [
    "## Next day Tesla stock price : 662.83"
   ]
  }
 ],
 "metadata": {
  "kernelspec": {
   "display_name": "Python 3",
   "language": "python",
   "name": "python3"
  },
  "language_info": {
   "codemirror_mode": {
    "name": "ipython",
    "version": 3
   },
   "file_extension": ".py",
   "mimetype": "text/x-python",
   "name": "python",
   "nbconvert_exporter": "python",
   "pygments_lexer": "ipython3",
   "version": "3.8.5"
  }
 },
 "nbformat": 4,
 "nbformat_minor": 4
}
